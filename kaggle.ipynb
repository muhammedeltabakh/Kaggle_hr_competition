{
 "cells": [
  {
   "cell_type": "code",
   "execution_count": 1,
   "metadata": {
    "collapsed": true
   },
   "outputs": [],
   "source": [
    "from pyspark import SparkContext\n",
    "from pyspark.ml.feature import OneHotEncoder, StringIndexer\n",
    "import seaborn as sns\n",
    "import matplotlib.pyplot as plt\n",
    "import pandas as pd\n",
    "from pyspark.sql.functions import udf\n",
    "from sklearn.preprocessing import LabelEncoder\n",
    "from pyspark.ml.linalg import DenseVector\n",
    "from pyspark.mllib.classification import SVMWithSGD, SVMModel\n",
    "from pyspark.mllib.regression import LabeledPoint\n",
    "from pyspark.mllib.tree import DecisionTree, GradientBoostedTrees\n",
    "from pyspark.mllib.tree import RandomForest\n",
    "from pyspark.mllib.evaluation import MulticlassMetrics\n",
    "from pyspark.mllib.linalg import Vectors\n",
    "from pyspark.mllib.classification import NaiveBayes, NaiveBayesModel\n",
    "\n",
    "\n",
    "%matplotlib inline"
   ]
  },
  {
   "cell_type": "code",
   "execution_count": 2,
   "metadata": {
    "collapsed": true
   },
   "outputs": [],
   "source": [
    "hr_kaggle = sc.textFile('HR_comma_sep.csv')"
   ]
  },
  {
   "cell_type": "code",
   "execution_count": 10,
   "metadata": {
    "collapsed": true
   },
   "outputs": [],
   "source": [
    "hr_kaggle = hr_kaggle.map(lambda x: x.split(','))"
   ]
  },
  {
   "cell_type": "code",
   "execution_count": 11,
   "metadata": {
    "collapsed": true
   },
   "outputs": [],
   "source": [
    "hr_kaggle_final = hr_kaggle.map(lambda x: (x[0], x[1], x[2], x[3], x[4], x[5], x[6], x[7], x[8], x[9]))"
   ]
  },
  {
   "cell_type": "code",
   "execution_count": 12,
   "metadata": {},
   "outputs": [
    {
     "data": {
      "text/plain": [
       "[('satisfaction_level',\n",
       "  'last_evaluation',\n",
       "  'number_project',\n",
       "  'average_montly_hours',\n",
       "  'time_spend_company',\n",
       "  'Work_accident',\n",
       "  'left',\n",
       "  'promotion_last_5years',\n",
       "  'sales',\n",
       "  'salary'),\n",
       " ('0.38', '0.53', '2', '157', '3', '0', '1', '0', 'sales', 'low'),\n",
       " ('0.8', '0.86', '5', '262', '6', '0', '1', '0', 'sales', 'medium'),\n",
       " ('0.11', '0.88', '7', '272', '4', '0', '1', '0', 'sales', 'medium'),\n",
       " ('0.72', '0.87', '5', '223', '5', '0', '1', '0', 'sales', 'low')]"
      ]
     },
     "execution_count": 12,
     "metadata": {},
     "output_type": "execute_result"
    }
   ],
   "source": [
    "hr_kaggle_final.take(5)"
   ]
  },
  {
   "cell_type": "code",
   "execution_count": 13,
   "metadata": {
    "collapsed": true
   },
   "outputs": [],
   "source": [
    "hr_kaggle_final = hr_kaggle_final.toDF(['Satisfaction_Level', 'Last_Evaluation', 'no_of_projects', 'Average_hours', 'Time_Spent', 'Work_accident','left', 'Promotion', 'Dept', 'Salary'])"
   ]
  },
  {
   "cell_type": "code",
   "execution_count": 14,
   "metadata": {
    "collapsed": true
   },
   "outputs": [],
   "source": [
    "indexer = StringIndexer(inputCol=\"Dept\", outputCol=\"dept\")\n",
    "indexed = indexer.fit(hr_kaggle_final).transform(hr_kaggle_final)"
   ]
  },
  {
   "cell_type": "code",
   "execution_count": 15,
   "metadata": {
    "collapsed": true
   },
   "outputs": [],
   "source": [
    "indexer1 = StringIndexer(inputCol=\"Salary\", outputCol=\"salary\")\n",
    "indexed1 = indexer1.fit(indexed).transform(indexed)"
   ]
  },
  {
   "cell_type": "code",
   "execution_count": 16,
   "metadata": {},
   "outputs": [
    {
     "data": {
      "text/plain": [
       "[Row(Satisfaction_Level='satisfaction_level', Last_Evaluation='last_evaluation', no_of_projects='number_project', Average_hours='average_montly_hours', Time_Spent='time_spend_company', Work_accident='Work_accident', left='left', Promotion='promotion_last_5years', Dept='sales', Salary='salary', dept=0.0, salary=3.0),\n",
       " Row(Satisfaction_Level='0.38', Last_Evaluation='0.53', no_of_projects='2', Average_hours='157', Time_Spent='3', Work_accident='0', left='1', Promotion='0', Dept='sales', Salary='low', dept=0.0, salary=0.0),\n",
       " Row(Satisfaction_Level='0.8', Last_Evaluation='0.86', no_of_projects='5', Average_hours='262', Time_Spent='6', Work_accident='0', left='1', Promotion='0', Dept='sales', Salary='medium', dept=0.0, salary=1.0),\n",
       " Row(Satisfaction_Level='0.11', Last_Evaluation='0.88', no_of_projects='7', Average_hours='272', Time_Spent='4', Work_accident='0', left='1', Promotion='0', Dept='sales', Salary='medium', dept=0.0, salary=1.0),\n",
       " Row(Satisfaction_Level='0.72', Last_Evaluation='0.87', no_of_projects='5', Average_hours='223', Time_Spent='5', Work_accident='0', left='1', Promotion='0', Dept='sales', Salary='low', dept=0.0, salary=0.0)]"
      ]
     },
     "execution_count": 16,
     "metadata": {},
     "output_type": "execute_result"
    }
   ],
   "source": [
    "indexed1.take(5)"
   ]
  },
  {
   "cell_type": "code",
   "execution_count": 753,
   "metadata": {
    "collapsed": true
   },
   "outputs": [],
   "source": [
    "from pyspark.sql.types import *\n",
    "\n",
    "# Write a custom function to convert the data type of DataFrame columns\n",
    "def convertColumn(df, names, newType):\n",
    "    for name in names: \n",
    "        df = df.withColumn(name, df[name].cast(newType))\n",
    "    return df \n",
    "\n"
   ]
  },
  {
   "cell_type": "code",
   "execution_count": 754,
   "metadata": {
    "collapsed": true
   },
   "outputs": [],
   "source": [
    "columns = ['Satisfaction_Level', 'Last_Evaluation', 'no_of_projects', 'Average_hours', 'Time_Spent', 'Work_accident','left', 'Promotion', 'dept', 'salary']\n",
    "\n"
   ]
  },
  {
   "cell_type": "code",
   "execution_count": 756,
   "metadata": {
    "collapsed": true
   },
   "outputs": [],
   "source": [
    "#converted = convertColumn(indexed1, columns, FloatType())"
   ]
  },
  {
   "cell_type": "code",
   "execution_count": null,
   "metadata": {
    "collapsed": true
   },
   "outputs": [],
   "source": []
  },
  {
   "cell_type": "code",
   "execution_count": 17,
   "metadata": {
    "collapsed": true
   },
   "outputs": [],
   "source": [
    "hr_kaggle_final1 = indexed1.toPandas()"
   ]
  },
  {
   "cell_type": "code",
   "execution_count": 18,
   "metadata": {
    "collapsed": true
   },
   "outputs": [],
   "source": [
    "hr_kaggle_final_table = hr_kaggle_final1.drop(0)"
   ]
  },
  {
   "cell_type": "code",
   "execution_count": 19,
   "metadata": {},
   "outputs": [
    {
     "data": {
      "text/html": [
       "<div>\n",
       "<table border=\"1\" class=\"dataframe\">\n",
       "  <thead>\n",
       "    <tr style=\"text-align: right;\">\n",
       "      <th></th>\n",
       "      <th>Satisfaction_Level</th>\n",
       "      <th>Last_Evaluation</th>\n",
       "      <th>no_of_projects</th>\n",
       "      <th>Average_hours</th>\n",
       "      <th>Time_Spent</th>\n",
       "      <th>Work_accident</th>\n",
       "      <th>left</th>\n",
       "      <th>Promotion</th>\n",
       "      <th>Dept</th>\n",
       "      <th>Salary</th>\n",
       "      <th>dept</th>\n",
       "      <th>salary</th>\n",
       "    </tr>\n",
       "  </thead>\n",
       "  <tbody>\n",
       "    <tr>\n",
       "      <th>1</th>\n",
       "      <td>0.38</td>\n",
       "      <td>0.53</td>\n",
       "      <td>2</td>\n",
       "      <td>157</td>\n",
       "      <td>3</td>\n",
       "      <td>0</td>\n",
       "      <td>1</td>\n",
       "      <td>0</td>\n",
       "      <td>sales</td>\n",
       "      <td>low</td>\n",
       "      <td>0.0</td>\n",
       "      <td>0.0</td>\n",
       "    </tr>\n",
       "    <tr>\n",
       "      <th>2</th>\n",
       "      <td>0.8</td>\n",
       "      <td>0.86</td>\n",
       "      <td>5</td>\n",
       "      <td>262</td>\n",
       "      <td>6</td>\n",
       "      <td>0</td>\n",
       "      <td>1</td>\n",
       "      <td>0</td>\n",
       "      <td>sales</td>\n",
       "      <td>medium</td>\n",
       "      <td>0.0</td>\n",
       "      <td>1.0</td>\n",
       "    </tr>\n",
       "    <tr>\n",
       "      <th>3</th>\n",
       "      <td>0.11</td>\n",
       "      <td>0.88</td>\n",
       "      <td>7</td>\n",
       "      <td>272</td>\n",
       "      <td>4</td>\n",
       "      <td>0</td>\n",
       "      <td>1</td>\n",
       "      <td>0</td>\n",
       "      <td>sales</td>\n",
       "      <td>medium</td>\n",
       "      <td>0.0</td>\n",
       "      <td>1.0</td>\n",
       "    </tr>\n",
       "    <tr>\n",
       "      <th>4</th>\n",
       "      <td>0.72</td>\n",
       "      <td>0.87</td>\n",
       "      <td>5</td>\n",
       "      <td>223</td>\n",
       "      <td>5</td>\n",
       "      <td>0</td>\n",
       "      <td>1</td>\n",
       "      <td>0</td>\n",
       "      <td>sales</td>\n",
       "      <td>low</td>\n",
       "      <td>0.0</td>\n",
       "      <td>0.0</td>\n",
       "    </tr>\n",
       "    <tr>\n",
       "      <th>5</th>\n",
       "      <td>0.37</td>\n",
       "      <td>0.52</td>\n",
       "      <td>2</td>\n",
       "      <td>159</td>\n",
       "      <td>3</td>\n",
       "      <td>0</td>\n",
       "      <td>1</td>\n",
       "      <td>0</td>\n",
       "      <td>sales</td>\n",
       "      <td>low</td>\n",
       "      <td>0.0</td>\n",
       "      <td>0.0</td>\n",
       "    </tr>\n",
       "  </tbody>\n",
       "</table>\n",
       "</div>"
      ],
      "text/plain": [
       "  Satisfaction_Level Last_Evaluation no_of_projects Average_hours Time_Spent  \\\n",
       "1               0.38            0.53              2           157          3   \n",
       "2                0.8            0.86              5           262          6   \n",
       "3               0.11            0.88              7           272          4   \n",
       "4               0.72            0.87              5           223          5   \n",
       "5               0.37            0.52              2           159          3   \n",
       "\n",
       "  Work_accident left Promotion   Dept  Salary  dept  salary  \n",
       "1             0    1         0  sales     low   0.0     0.0  \n",
       "2             0    1         0  sales  medium   0.0     1.0  \n",
       "3             0    1         0  sales  medium   0.0     1.0  \n",
       "4             0    1         0  sales     low   0.0     0.0  \n",
       "5             0    1         0  sales     low   0.0     0.0  "
      ]
     },
     "execution_count": 19,
     "metadata": {},
     "output_type": "execute_result"
    }
   ],
   "source": [
    "hr_kaggle_final_table.head(5)"
   ]
  },
  {
   "cell_type": "code",
   "execution_count": 20,
   "metadata": {
    "collapsed": true
   },
   "outputs": [],
   "source": [
    "hr_kaggle_final_table = hr_kaggle_final_table.drop(['Dept', 'Salary'], 1)"
   ]
  },
  {
   "cell_type": "code",
   "execution_count": 21,
   "metadata": {},
   "outputs": [
    {
     "data": {
      "text/html": [
       "<div>\n",
       "<table border=\"1\" class=\"dataframe\">\n",
       "  <thead>\n",
       "    <tr style=\"text-align: right;\">\n",
       "      <th></th>\n",
       "      <th>Satisfaction_Level</th>\n",
       "      <th>Last_Evaluation</th>\n",
       "      <th>no_of_projects</th>\n",
       "      <th>Average_hours</th>\n",
       "      <th>Time_Spent</th>\n",
       "      <th>Work_accident</th>\n",
       "      <th>left</th>\n",
       "      <th>Promotion</th>\n",
       "      <th>dept</th>\n",
       "      <th>salary</th>\n",
       "    </tr>\n",
       "  </thead>\n",
       "  <tbody>\n",
       "    <tr>\n",
       "      <th>1</th>\n",
       "      <td>0.38</td>\n",
       "      <td>0.53</td>\n",
       "      <td>2</td>\n",
       "      <td>157</td>\n",
       "      <td>3</td>\n",
       "      <td>0</td>\n",
       "      <td>1</td>\n",
       "      <td>0</td>\n",
       "      <td>0.0</td>\n",
       "      <td>0.0</td>\n",
       "    </tr>\n",
       "    <tr>\n",
       "      <th>2</th>\n",
       "      <td>0.8</td>\n",
       "      <td>0.86</td>\n",
       "      <td>5</td>\n",
       "      <td>262</td>\n",
       "      <td>6</td>\n",
       "      <td>0</td>\n",
       "      <td>1</td>\n",
       "      <td>0</td>\n",
       "      <td>0.0</td>\n",
       "      <td>1.0</td>\n",
       "    </tr>\n",
       "    <tr>\n",
       "      <th>3</th>\n",
       "      <td>0.11</td>\n",
       "      <td>0.88</td>\n",
       "      <td>7</td>\n",
       "      <td>272</td>\n",
       "      <td>4</td>\n",
       "      <td>0</td>\n",
       "      <td>1</td>\n",
       "      <td>0</td>\n",
       "      <td>0.0</td>\n",
       "      <td>1.0</td>\n",
       "    </tr>\n",
       "    <tr>\n",
       "      <th>4</th>\n",
       "      <td>0.72</td>\n",
       "      <td>0.87</td>\n",
       "      <td>5</td>\n",
       "      <td>223</td>\n",
       "      <td>5</td>\n",
       "      <td>0</td>\n",
       "      <td>1</td>\n",
       "      <td>0</td>\n",
       "      <td>0.0</td>\n",
       "      <td>0.0</td>\n",
       "    </tr>\n",
       "    <tr>\n",
       "      <th>5</th>\n",
       "      <td>0.37</td>\n",
       "      <td>0.52</td>\n",
       "      <td>2</td>\n",
       "      <td>159</td>\n",
       "      <td>3</td>\n",
       "      <td>0</td>\n",
       "      <td>1</td>\n",
       "      <td>0</td>\n",
       "      <td>0.0</td>\n",
       "      <td>0.0</td>\n",
       "    </tr>\n",
       "  </tbody>\n",
       "</table>\n",
       "</div>"
      ],
      "text/plain": [
       "  Satisfaction_Level Last_Evaluation no_of_projects Average_hours Time_Spent  \\\n",
       "1               0.38            0.53              2           157          3   \n",
       "2                0.8            0.86              5           262          6   \n",
       "3               0.11            0.88              7           272          4   \n",
       "4               0.72            0.87              5           223          5   \n",
       "5               0.37            0.52              2           159          3   \n",
       "\n",
       "  Work_accident left Promotion  dept  salary  \n",
       "1             0    1         0   0.0     0.0  \n",
       "2             0    1         0   0.0     1.0  \n",
       "3             0    1         0   0.0     1.0  \n",
       "4             0    1         0   0.0     0.0  \n",
       "5             0    1         0   0.0     0.0  "
      ]
     },
     "execution_count": 21,
     "metadata": {},
     "output_type": "execute_result"
    }
   ],
   "source": [
    "hr_kaggle_final_table.head(5)"
   ]
  },
  {
   "cell_type": "code",
   "execution_count": 22,
   "metadata": {},
   "outputs": [
    {
     "data": {
      "text/plain": [
       "0    11428\n",
       "1     3571\n",
       "Name: left, dtype: int64"
      ]
     },
     "execution_count": 22,
     "metadata": {},
     "output_type": "execute_result"
    }
   ],
   "source": [
    "hr_kaggle_final_table.left.value_counts()"
   ]
  },
  {
   "cell_type": "code",
   "execution_count": 23,
   "metadata": {
    "collapsed": true
   },
   "outputs": [],
   "source": [
    "hr_kaggle_final_table['Average_hours'] = hr_kaggle_final_table['Average_hours'].astype(int)"
   ]
  },
  {
   "cell_type": "code",
   "execution_count": 24,
   "metadata": {
    "collapsed": true
   },
   "outputs": [],
   "source": [
    "hr_kaggle_final_table['average_hours'] = pd.cut(hr_kaggle_final_table.Average_hours, bins=[80,100,120,140,160,180,200,220,240,260,280,300,320])"
   ]
  },
  {
   "cell_type": "code",
   "execution_count": 25,
   "metadata": {},
   "outputs": [
    {
     "data": {
      "image/png": "[encoded data removed]",
      "text/plain": [
       "<matplotlib.figure.Figure at 0x103072f60>"
      ]
     },
     "metadata": {},
     "output_type": "display_data"
    }
   ],
   "source": [
    "fig,ax= plt.subplots(figsize=(15,10));\n",
    "sns.countplot(x='average_hours',data=hr_kaggle_final_table,hue='left');\n",
    "plt.title('Average_hours for an employee who has left or Not');"
   ]
  },
  {
   "cell_type": "code",
   "execution_count": null,
   "metadata": {
    "collapsed": true
   },
   "outputs": [],
   "source": []
  },
  {
   "cell_type": "code",
   "execution_count": 26,
   "metadata": {
    "collapsed": true
   },
   "outputs": [],
   "source": [
    "hr_final_table = hr_kaggle_final_table.drop('Average_hours', 1)"
   ]
  },
  {
   "cell_type": "code",
   "execution_count": 27,
   "metadata": {},
   "outputs": [
    {
     "data": {
      "text/html": [
       "<div>\n",
       "<table border=\"1\" class=\"dataframe\">\n",
       "  <thead>\n",
       "    <tr style=\"text-align: right;\">\n",
       "      <th></th>\n",
       "      <th>Satisfaction_Level</th>\n",
       "      <th>Last_Evaluation</th>\n",
       "      <th>no_of_projects</th>\n",
       "      <th>Time_Spent</th>\n",
       "      <th>Work_accident</th>\n",
       "      <th>left</th>\n",
       "      <th>Promotion</th>\n",
       "      <th>dept</th>\n",
       "      <th>salary</th>\n",
       "      <th>average_hours</th>\n",
       "    </tr>\n",
       "  </thead>\n",
       "  <tbody>\n",
       "    <tr>\n",
       "      <th>1</th>\n",
       "      <td>0.38</td>\n",
       "      <td>0.53</td>\n",
       "      <td>2</td>\n",
       "      <td>3</td>\n",
       "      <td>0</td>\n",
       "      <td>1</td>\n",
       "      <td>0</td>\n",
       "      <td>0.0</td>\n",
       "      <td>0.0</td>\n",
       "      <td>(140, 160]</td>\n",
       "    </tr>\n",
       "    <tr>\n",
       "      <th>2</th>\n",
       "      <td>0.8</td>\n",
       "      <td>0.86</td>\n",
       "      <td>5</td>\n",
       "      <td>6</td>\n",
       "      <td>0</td>\n",
       "      <td>1</td>\n",
       "      <td>0</td>\n",
       "      <td>0.0</td>\n",
       "      <td>1.0</td>\n",
       "      <td>(260, 280]</td>\n",
       "    </tr>\n",
       "    <tr>\n",
       "      <th>3</th>\n",
       "      <td>0.11</td>\n",
       "      <td>0.88</td>\n",
       "      <td>7</td>\n",
       "      <td>4</td>\n",
       "      <td>0</td>\n",
       "      <td>1</td>\n",
       "      <td>0</td>\n",
       "      <td>0.0</td>\n",
       "      <td>1.0</td>\n",
       "      <td>(260, 280]</td>\n",
       "    </tr>\n",
       "    <tr>\n",
       "      <th>4</th>\n",
       "      <td>0.72</td>\n",
       "      <td>0.87</td>\n",
       "      <td>5</td>\n",
       "      <td>5</td>\n",
       "      <td>0</td>\n",
       "      <td>1</td>\n",
       "      <td>0</td>\n",
       "      <td>0.0</td>\n",
       "      <td>0.0</td>\n",
       "      <td>(220, 240]</td>\n",
       "    </tr>\n",
       "    <tr>\n",
       "      <th>5</th>\n",
       "      <td>0.37</td>\n",
       "      <td>0.52</td>\n",
       "      <td>2</td>\n",
       "      <td>3</td>\n",
       "      <td>0</td>\n",
       "      <td>1</td>\n",
       "      <td>0</td>\n",
       "      <td>0.0</td>\n",
       "      <td>0.0</td>\n",
       "      <td>(140, 160]</td>\n",
       "    </tr>\n",
       "  </tbody>\n",
       "</table>\n",
       "</div>"
      ],
      "text/plain": [
       "  Satisfaction_Level Last_Evaluation no_of_projects Time_Spent Work_accident  \\\n",
       "1               0.38            0.53              2          3             0   \n",
       "2                0.8            0.86              5          6             0   \n",
       "3               0.11            0.88              7          4             0   \n",
       "4               0.72            0.87              5          5             0   \n",
       "5               0.37            0.52              2          3             0   \n",
       "\n",
       "  left Promotion  dept  salary average_hours  \n",
       "1    1         0   0.0     0.0    (140, 160]  \n",
       "2    1         0   0.0     1.0    (260, 280]  \n",
       "3    1         0   0.0     1.0    (260, 280]  \n",
       "4    1         0   0.0     0.0    (220, 240]  \n",
       "5    1         0   0.0     0.0    (140, 160]  "
      ]
     },
     "execution_count": 27,
     "metadata": {},
     "output_type": "execute_result"
    }
   ],
   "source": [
    "hr_final_table.head(5)"
   ]
  },
  {
   "cell_type": "code",
   "execution_count": 28,
   "metadata": {},
   "outputs": [
    {
     "data": {
      "text/plain": [
       "0    14680\n",
       "1      319\n",
       "Name: Promotion, dtype: int64"
      ]
     },
     "execution_count": 28,
     "metadata": {},
     "output_type": "execute_result"
    }
   ],
   "source": [
    "hr_final_table.Promotion.value_counts()"
   ]
  },
  {
   "cell_type": "code",
   "execution_count": 29,
   "metadata": {},
   "outputs": [
    {
     "data": {
      "image/png": "[encoded data removed]",
      "text/plain": [
       "<matplotlib.figure.Figure at 0x10cdc87f0>"
      ]
     },
     "metadata": {},
     "output_type": "display_data"
    }
   ],
   "source": [
    "fig,ax= plt.subplots(figsize=(15,10));\n",
    "sns.countplot(x='no_of_projects',data=hr_kaggle_final_table,hue='left');\n",
    "plt.title('Average_hours for an employee who has left or Not');"
   ]
  },
  {
   "cell_type": "code",
   "execution_count": 30,
   "metadata": {
    "collapsed": true
   },
   "outputs": [],
   "source": [
    "hr_final_table.no_of_projects = hr_final_table.no_of_projects.astype(float)"
   ]
  },
  {
   "cell_type": "code",
   "execution_count": 31,
   "metadata": {
    "collapsed": true
   },
   "outputs": [],
   "source": [
    "hr_final_table.Time_Spent = hr_final_table.Time_Spent.astype(float)\n",
    "hr_final_table.Work_accident = hr_final_table.Work_accident.astype(float)\n",
    "hr_final_table.left = hr_final_table.left.astype(float)\n",
    "hr_final_table.Promotion = hr_final_table.Promotion.astype(float)\n",
    "hr_final_table.Satisfaction_Level = hr_final_table.Satisfaction_Level.astype(float)\n",
    "hr_final_table.Last_Evaluation = hr_final_table.Last_Evaluation.astype(float)"
   ]
  },
  {
   "cell_type": "code",
   "execution_count": 32,
   "metadata": {
    "collapsed": true
   },
   "outputs": [],
   "source": [
    "label_encoder = LabelEncoder()"
   ]
  },
  {
   "cell_type": "code",
   "execution_count": 33,
   "metadata": {
    "collapsed": true
   },
   "outputs": [],
   "source": [
    "hr_final_table['average_hours'] = label_encoder.fit_transform(hr_final_table.average_hours)"
   ]
  },
  {
   "cell_type": "code",
   "execution_count": 35,
   "metadata": {},
   "outputs": [],
   "source": [
    "#hr_final_table.average_hours = hr_final_table.average_hours.astype(DoubleType)"
   ]
  },
  {
   "cell_type": "code",
   "execution_count": 36,
   "metadata": {},
   "outputs": [
    {
     "data": {
      "text/html": [
       "<div>\n",
       "<table border=\"1\" class=\"dataframe\">\n",
       "  <thead>\n",
       "    <tr style=\"text-align: right;\">\n",
       "      <th></th>\n",
       "      <th>Satisfaction_Level</th>\n",
       "      <th>Last_Evaluation</th>\n",
       "      <th>no_of_projects</th>\n",
       "      <th>Time_Spent</th>\n",
       "      <th>Work_accident</th>\n",
       "      <th>left</th>\n",
       "      <th>Promotion</th>\n",
       "      <th>dept</th>\n",
       "      <th>salary</th>\n",
       "      <th>average_hours</th>\n",
       "    </tr>\n",
       "  </thead>\n",
       "  <tbody>\n",
       "    <tr>\n",
       "      <th>Satisfaction_Level</th>\n",
       "      <td>1.000000</td>\n",
       "      <td>0.105021</td>\n",
       "      <td>-0.142970</td>\n",
       "      <td>-0.100866</td>\n",
       "      <td>0.058697</td>\n",
       "      <td>-0.388375</td>\n",
       "      <td>0.025605</td>\n",
       "      <td>-0.008430</td>\n",
       "      <td>0.050022</td>\n",
       "      <td>-0.027774</td>\n",
       "    </tr>\n",
       "    <tr>\n",
       "      <th>Last_Evaluation</th>\n",
       "      <td>0.105021</td>\n",
       "      <td>1.000000</td>\n",
       "      <td>0.349333</td>\n",
       "      <td>0.131591</td>\n",
       "      <td>-0.007104</td>\n",
       "      <td>0.006567</td>\n",
       "      <td>-0.008684</td>\n",
       "      <td>0.004741</td>\n",
       "      <td>-0.013002</td>\n",
       "      <td>0.327923</td>\n",
       "    </tr>\n",
       "    <tr>\n",
       "      <th>no_of_projects</th>\n",
       "      <td>-0.142970</td>\n",
       "      <td>0.349333</td>\n",
       "      <td>1.000000</td>\n",
       "      <td>0.196786</td>\n",
       "      <td>-0.004741</td>\n",
       "      <td>0.023787</td>\n",
       "      <td>-0.006064</td>\n",
       "      <td>-0.008138</td>\n",
       "      <td>-0.001803</td>\n",
       "      <td>0.415709</td>\n",
       "    </tr>\n",
       "    <tr>\n",
       "      <th>Time_Spent</th>\n",
       "      <td>-0.100866</td>\n",
       "      <td>0.131591</td>\n",
       "      <td>0.196786</td>\n",
       "      <td>1.000000</td>\n",
       "      <td>0.002120</td>\n",
       "      <td>0.144822</td>\n",
       "      <td>0.067433</td>\n",
       "      <td>0.043883</td>\n",
       "      <td>0.048715</td>\n",
       "      <td>0.134406</td>\n",
       "    </tr>\n",
       "    <tr>\n",
       "      <th>Work_accident</th>\n",
       "      <td>0.058697</td>\n",
       "      <td>-0.007104</td>\n",
       "      <td>-0.004741</td>\n",
       "      <td>0.002120</td>\n",
       "      <td>1.000000</td>\n",
       "      <td>-0.154622</td>\n",
       "      <td>0.039245</td>\n",
       "      <td>0.003402</td>\n",
       "      <td>0.009247</td>\n",
       "      <td>-0.002670</td>\n",
       "    </tr>\n",
       "    <tr>\n",
       "      <th>left</th>\n",
       "      <td>-0.388375</td>\n",
       "      <td>0.006567</td>\n",
       "      <td>0.023787</td>\n",
       "      <td>0.144822</td>\n",
       "      <td>-0.154622</td>\n",
       "      <td>1.000000</td>\n",
       "      <td>-0.061788</td>\n",
       "      <td>-0.028394</td>\n",
       "      <td>-0.157898</td>\n",
       "      <td>0.054545</td>\n",
       "    </tr>\n",
       "    <tr>\n",
       "      <th>Promotion</th>\n",
       "      <td>0.025605</td>\n",
       "      <td>-0.008684</td>\n",
       "      <td>-0.006064</td>\n",
       "      <td>0.067433</td>\n",
       "      <td>0.039245</td>\n",
       "      <td>-0.061788</td>\n",
       "      <td>1.000000</td>\n",
       "      <td>0.072657</td>\n",
       "      <td>0.098119</td>\n",
       "      <td>-0.002524</td>\n",
       "    </tr>\n",
       "    <tr>\n",
       "      <th>dept</th>\n",
       "      <td>-0.008430</td>\n",
       "      <td>0.004741</td>\n",
       "      <td>-0.008138</td>\n",
       "      <td>0.043883</td>\n",
       "      <td>0.003402</td>\n",
       "      <td>-0.028394</td>\n",
       "      <td>0.072657</td>\n",
       "      <td>1.000000</td>\n",
       "      <td>0.102711</td>\n",
       "      <td>-0.009222</td>\n",
       "    </tr>\n",
       "    <tr>\n",
       "      <th>salary</th>\n",
       "      <td>0.050022</td>\n",
       "      <td>-0.013002</td>\n",
       "      <td>-0.001803</td>\n",
       "      <td>0.048715</td>\n",
       "      <td>0.009247</td>\n",
       "      <td>-0.157898</td>\n",
       "      <td>0.098119</td>\n",
       "      <td>0.102711</td>\n",
       "      <td>1.000000</td>\n",
       "      <td>-0.002232</td>\n",
       "    </tr>\n",
       "    <tr>\n",
       "      <th>average_hours</th>\n",
       "      <td>-0.027774</td>\n",
       "      <td>0.327923</td>\n",
       "      <td>0.415709</td>\n",
       "      <td>0.134406</td>\n",
       "      <td>-0.002670</td>\n",
       "      <td>0.054545</td>\n",
       "      <td>-0.002524</td>\n",
       "      <td>-0.009222</td>\n",
       "      <td>-0.002232</td>\n",
       "      <td>1.000000</td>\n",
       "    </tr>\n",
       "  </tbody>\n",
       "</table>\n",
       "</div>"
      ],
      "text/plain": [
       "                    Satisfaction_Level  Last_Evaluation  no_of_projects  \\\n",
       "Satisfaction_Level            1.000000         0.105021       -0.142970   \n",
       "Last_Evaluation               0.105021         1.000000        0.349333   \n",
       "no_of_projects               -0.142970         0.349333        1.000000   \n",
       "Time_Spent                   -0.100866         0.131591        0.196786   \n",
       "Work_accident                 0.058697        -0.007104       -0.004741   \n",
       "left                         -0.388375         0.006567        0.023787   \n",
       "Promotion                     0.025605        -0.008684       -0.006064   \n",
       "dept                         -0.008430         0.004741       -0.008138   \n",
       "salary                        0.050022        -0.013002       -0.001803   \n",
       "average_hours                -0.027774         0.327923        0.415709   \n",
       "\n",
       "                    Time_Spent  Work_accident      left  Promotion      dept  \\\n",
       "Satisfaction_Level   -0.100866       0.058697 -0.388375   0.025605 -0.008430   \n",
       "Last_Evaluation       0.131591      -0.007104  0.006567  -0.008684  0.004741   \n",
       "no_of_projects        0.196786      -0.004741  0.023787  -0.006064 -0.008138   \n",
       "Time_Spent            1.000000       0.002120  0.144822   0.067433  0.043883   \n",
       "Work_accident         0.002120       1.000000 -0.154622   0.039245  0.003402   \n",
       "left                  0.144822      -0.154622  1.000000  -0.061788 -0.028394   \n",
       "Promotion             0.067433       0.039245 -0.061788   1.000000  0.072657   \n",
       "dept                  0.043883       0.003402 -0.028394   0.072657  1.000000   \n",
       "salary                0.048715       0.009247 -0.157898   0.098119  0.102711   \n",
       "average_hours         0.134406      -0.002670  0.054545  -0.002524 -0.009222   \n",
       "\n",
       "                      salary  average_hours  \n",
       "Satisfaction_Level  0.050022      -0.027774  \n",
       "Last_Evaluation    -0.013002       0.327923  \n",
       "no_of_projects     -0.001803       0.415709  \n",
       "Time_Spent          0.048715       0.134406  \n",
       "Work_accident       0.009247      -0.002670  \n",
       "left               -0.157898       0.054545  \n",
       "Promotion           0.098119      -0.002524  \n",
       "dept                0.102711      -0.009222  \n",
       "salary              1.000000      -0.002232  \n",
       "average_hours      -0.002232       1.000000  "
      ]
     },
     "execution_count": 36,
     "metadata": {},
     "output_type": "execute_result"
    },
    {
     "data": {
      "image/png": "[encoded data removed]",
      "text/plain": [
       "<matplotlib.figure.Figure at 0x10d163ef0>"
      ]
     },
     "metadata": {},
     "output_type": "display_data"
    }
   ],
   "source": [
    "corr = hr_final_table.corr()\n",
    "fig,ax= plt.subplots(figsize=(12,10));\n",
    "sns.heatmap(corr, \n",
    "            xticklabels=corr.columns.values,\n",
    "            yticklabels=corr.columns.values)\n",
    "sns.plt.title('Heatmap of Correlation Matrix')\n",
    "corr"
   ]
  },
  {
   "cell_type": "code",
   "execution_count": 37,
   "metadata": {},
   "outputs": [
    {
     "data": {
      "text/html": [
       "<div>\n",
       "<table border=\"1\" class=\"dataframe\">\n",
       "  <thead>\n",
       "    <tr style=\"text-align: right;\">\n",
       "      <th></th>\n",
       "      <th>left</th>\n",
       "    </tr>\n",
       "  </thead>\n",
       "  <tbody>\n",
       "    <tr>\n",
       "      <th>Time_Spent</th>\n",
       "      <td>0.144822</td>\n",
       "    </tr>\n",
       "    <tr>\n",
       "      <th>average_hours</th>\n",
       "      <td>0.054545</td>\n",
       "    </tr>\n",
       "    <tr>\n",
       "      <th>no_of_projects</th>\n",
       "      <td>0.023787</td>\n",
       "    </tr>\n",
       "    <tr>\n",
       "      <th>Last_Evaluation</th>\n",
       "      <td>0.006567</td>\n",
       "    </tr>\n",
       "    <tr>\n",
       "      <th>dept</th>\n",
       "      <td>-0.028394</td>\n",
       "    </tr>\n",
       "    <tr>\n",
       "      <th>Promotion</th>\n",
       "      <td>-0.061788</td>\n",
       "    </tr>\n",
       "    <tr>\n",
       "      <th>Work_accident</th>\n",
       "      <td>-0.154622</td>\n",
       "    </tr>\n",
       "    <tr>\n",
       "      <th>salary</th>\n",
       "      <td>-0.157898</td>\n",
       "    </tr>\n",
       "    <tr>\n",
       "      <th>Satisfaction_Level</th>\n",
       "      <td>-0.388375</td>\n",
       "    </tr>\n",
       "  </tbody>\n",
       "</table>\n",
       "</div>"
      ],
      "text/plain": [
       "                        left\n",
       "Time_Spent          0.144822\n",
       "average_hours       0.054545\n",
       "no_of_projects      0.023787\n",
       "Last_Evaluation     0.006567\n",
       "dept               -0.028394\n",
       "Promotion          -0.061788\n",
       "Work_accident      -0.154622\n",
       "salary             -0.157898\n",
       "Satisfaction_Level -0.388375"
      ]
     },
     "execution_count": 37,
     "metadata": {},
     "output_type": "execute_result"
    }
   ],
   "source": [
    "corr_left = pd.DataFrame(corr['left'].drop('left'))\n",
    "corr_left.sort_values(by = 'left', ascending = False)"
   ]
  },
  {
   "cell_type": "code",
   "execution_count": 38,
   "metadata": {
    "collapsed": true
   },
   "outputs": [],
   "source": [
    "df1 = spark.createDataFrame(hr_final_table)"
   ]
  },
  {
   "cell_type": "code",
   "execution_count": 40,
   "metadata": {},
   "outputs": [
    {
     "name": "stdout",
     "output_type": "stream",
     "text": [
      "+------------------+---------------+--------------+----------+-------------+----+---------+----+------+-------------+\n",
      "|Satisfaction_Level|Last_Evaluation|no_of_projects|Time_Spent|Work_accident|left|Promotion|dept|salary|average_hours|\n",
      "+------------------+---------------+--------------+----------+-------------+----+---------+----+------+-------------+\n",
      "|              0.38|           0.53|           2.0|       3.0|          0.0| 1.0|      0.0| 0.0|   0.0|            2|\n",
      "|               0.8|           0.86|           5.0|       6.0|          0.0| 1.0|      0.0| 0.0|   1.0|            8|\n",
      "|              0.11|           0.88|           7.0|       4.0|          0.0| 1.0|      0.0| 0.0|   1.0|            8|\n",
      "|              0.72|           0.87|           5.0|       5.0|          0.0| 1.0|      0.0| 0.0|   0.0|            6|\n",
      "|              0.37|           0.52|           2.0|       3.0|          0.0| 1.0|      0.0| 0.0|   0.0|            2|\n",
      "|              0.41|            0.5|           2.0|       3.0|          0.0| 1.0|      0.0| 0.0|   0.0|            2|\n",
      "|               0.1|           0.77|           6.0|       4.0|          0.0| 1.0|      0.0| 0.0|   0.0|            7|\n",
      "|              0.92|           0.85|           5.0|       5.0|          0.0| 1.0|      0.0| 0.0|   0.0|            7|\n",
      "|              0.89|            1.0|           5.0|       5.0|          0.0| 1.0|      0.0| 0.0|   0.0|            6|\n",
      "|              0.42|           0.53|           2.0|       3.0|          0.0| 1.0|      0.0| 0.0|   0.0|            2|\n",
      "|              0.45|           0.54|           2.0|       3.0|          0.0| 1.0|      0.0| 0.0|   0.0|            1|\n",
      "|              0.11|           0.81|           6.0|       4.0|          0.0| 1.0|      0.0| 0.0|   0.0|           10|\n",
      "|              0.84|           0.92|           4.0|       5.0|          0.0| 1.0|      0.0| 0.0|   0.0|            6|\n",
      "|              0.41|           0.55|           2.0|       3.0|          0.0| 1.0|      0.0| 0.0|   0.0|            2|\n",
      "|              0.36|           0.56|           2.0|       3.0|          0.0| 1.0|      0.0| 0.0|   0.0|            1|\n",
      "|              0.38|           0.54|           2.0|       3.0|          0.0| 1.0|      0.0| 0.0|   0.0|            2|\n",
      "|              0.45|           0.47|           2.0|       3.0|          0.0| 1.0|      0.0| 0.0|   0.0|            2|\n",
      "|              0.78|           0.99|           4.0|       6.0|          0.0| 1.0|      0.0| 0.0|   0.0|            7|\n",
      "|              0.45|           0.51|           2.0|       3.0|          1.0| 1.0|      1.0| 0.0|   0.0|            2|\n",
      "|              0.76|           0.89|           5.0|       5.0|          0.0| 1.0|      0.0| 0.0|   0.0|            8|\n",
      "+------------------+---------------+--------------+----------+-------------+----+---------+----+------+-------------+\n",
      "only showing top 20 rows\n",
      "\n"
     ]
    }
   ],
   "source": [
    "df1.show()"
   ]
  },
  {
   "cell_type": "code",
   "execution_count": 41,
   "metadata": {
    "collapsed": true
   },
   "outputs": [],
   "source": [
    "def labeledData(data):\n",
    "    #return data.map(lambda x: LabeledPoint(x[5], Vectors.dense(x[0],x[1],x[2],x[3],x[4],x[6],x[7],x[8],x[9])))\n",
    "    return data.map(lambda x: LabeledPoint(x[5], Vectors.dense(x[0],x[1],x[2],x[3],x[6],x[7],x[8],x[9],x[4])))"
   ]
  },
  {
   "cell_type": "code",
   "execution_count": 42,
   "metadata": {
    "collapsed": true
   },
   "outputs": [],
   "source": [
    "#training_data, testing_data = labeledData(df.rdd).randomSplit([0.8, 0.2])\n",
    "training_data,cv, testing_data = labeledData(df1.rdd).randomSplit([0.6,0.2, 0.2])"
   ]
  },
  {
   "cell_type": "code",
   "execution_count": 43,
   "metadata": {
    "collapsed": true
   },
   "outputs": [],
   "source": [
    "model_svm = SVMWithSGD.train(training_data)\n",
    "model_bayes = NaiveBayes.train(training_data)"
   ]
  },
  {
   "cell_type": "code",
   "execution_count": 44,
   "metadata": {},
   "outputs": [
    {
     "name": "stdout",
     "output_type": "stream",
     "text": [
      "testPoint (1.0,[0.38,0.53,2.0,3.0,0.0,0.0,0.0,2.0,0.0])\n"
     ]
    }
   ],
   "source": [
    "testPoint = testing_data.first()\n",
    "print(\"testPoint\", testPoint)"
   ]
  },
  {
   "cell_type": "code",
   "execution_count": 46,
   "metadata": {},
   "outputs": [],
   "source": [
    "testPoints = testing_data.collect()\n",
    "for testPoint in testPoints:\n",
    "    label = testPoint.label\n",
    "    predictedLabel = model_svm.predict(testPoint.features)\n",
    "    #print(\"label: %s , predicted: %s, correct: %s\"  %(label,predictedLabel, label==predictedLabel))\n",
    "    "
   ]
  },
  {
   "cell_type": "code",
   "execution_count": null,
   "metadata": {
    "collapsed": true
   },
   "outputs": [],
   "source": []
  },
  {
   "cell_type": "code",
   "execution_count": 47,
   "metadata": {
    "collapsed": true
   },
   "outputs": [],
   "source": [
    "def getMetrics(model, data):\n",
    "    labels = data.map(lambda d: d.label)\n",
    "    features = data.map(lambda d: d.features)\n",
    "    predictions = model.predict(features)\n",
    "    #predictionsAndLabels = predictions.ma\n",
    "    predictionsAndLabels = data.map(lambda p: (p.label, float(model.predict(p.features))))\n",
    "    return MulticlassMetrics(predictionsAndLabels)"
   ]
  },
  {
   "cell_type": "code",
   "execution_count": 48,
   "metadata": {
    "collapsed": true
   },
   "outputs": [],
   "source": [
    "metric = getMetrics(model_svm, testing_data)"
   ]
  },
  {
   "cell_type": "code",
   "execution_count": 49,
   "metadata": {},
   "outputs": [
    {
     "data": {
      "text/plain": [
       "0.7581806282722513"
      ]
     },
     "execution_count": 49,
     "metadata": {},
     "output_type": "execute_result"
    }
   ],
   "source": [
    "metric.accuracy"
   ]
  },
  {
   "cell_type": "code",
   "execution_count": 50,
   "metadata": {},
   "outputs": [
    {
     "name": "stdout",
     "output_type": "stream",
     "text": [
      "CPU times: user 12.5 ms, sys: 3.91 ms, total: 16.4 ms\n",
      "Wall time: 1.8 s\n"
     ]
    }
   ],
   "source": [
    "def buildDecisionTreeClassifier(trainData):\n",
    "    \n",
    "    model = DecisionTree.trainClassifier(trainData,numClasses=2, categoricalFeaturesInfo={}, impurity=\"gini\", maxDepth=4, maxBins=100)\n",
    "\n",
    "    return  model\n",
    "%time m_tree =  buildDecisionTreeClassifier(training_data)\n"
   ]
  },
  {
   "cell_type": "code",
   "execution_count": 51,
   "metadata": {},
   "outputs": [
    {
     "name": "stdout",
     "output_type": "stream",
     "text": [
      "CPU times: user 244 ms, sys: 87.7 ms, total: 332 ms\n",
      "Wall time: 37.1 s\n"
     ]
    }
   ],
   "source": [
    "def buildGBTClassifier(trainData):\n",
    "    model_GBT = GradientBoostedTrees.trainClassifier(trainData, categoricalFeaturesInfo={})\n",
    "    \n",
    "    return model_GBT\n",
    "\n",
    "%time m_GBT = buildGBTClassifier(training_data)\n"
   ]
  },
  {
   "cell_type": "code",
   "execution_count": 990,
   "metadata": {
    "collapsed": true
   },
   "outputs": [],
   "source": [
    "#Caclusating the metrics using Spark Mulitclass\n",
    "def getMetrics(model, data):\n",
    "    labels = data.map(lambda d: d.label)\n",
    "    features = data.map(lambda d: d.features)\n",
    "    predictions = model.predict(features)\n",
    "    predictionsAndLabels = predictions.zip(labels)\n",
    "    return MulticlassMetrics(predictionsAndLabels)"
   ]
  },
  {
   "cell_type": "code",
   "execution_count": 991,
   "metadata": {
    "collapsed": true
   },
   "outputs": [],
   "source": [
    "metrics = getMetrics(m_tree, cv)\n"
   ]
  },
  {
   "cell_type": "code",
   "execution_count": 992,
   "metadata": {},
   "outputs": [
    {
     "data": {
      "text/plain": [
       "0.9712606139777923"
      ]
     },
     "execution_count": 992,
     "metadata": {},
     "output_type": "execute_result"
    }
   ],
   "source": [
    "metrics.accuracy"
   ]
  },
  {
   "cell_type": "code",
   "execution_count": 993,
   "metadata": {},
   "outputs": [
    {
     "data": {
      "text/plain": [
       "DenseMatrix(2, 2, [2273.0, 46.0, 42.0, 701.0], 0)"
      ]
     },
     "execution_count": 993,
     "metadata": {},
     "output_type": "execute_result"
    }
   ],
   "source": [
    "metrics.confusionMatrix()"
   ]
  },
  {
   "cell_type": "code",
   "execution_count": 994,
   "metadata": {},
   "outputs": [
    {
     "data": {
      "text/plain": [
       "0.9751796211626388"
      ]
     },
     "execution_count": 994,
     "metadata": {},
     "output_type": "execute_result"
    }
   ],
   "source": [
    "metrics = getMetrics(m_GBT, cv)\n",
    "metrics.accuracy\n"
   ]
  },
  {
   "cell_type": "code",
   "execution_count": null,
   "metadata": {
    "collapsed": true
   },
   "outputs": [],
   "source": []
  },
  {
   "cell_type": "code",
   "execution_count": null,
   "metadata": {
    "collapsed": true
   },
   "outputs": [],
   "source": []
  }
 ],
 "metadata": {
  "kernelspec": {
   "display_name": "Python 3",
   "language": "python",
   "name": "python3"
  },
  "language_info": {
   "codemirror_mode": {
    "name": "ipython",
    "version": 3
   },
   "file_extension": ".py",
   "mimetype": "text/x-python",
   "name": "python",
   "nbconvert_exporter": "python",
   "pygments_lexer": "ipython3",
   "version": "3.5.1"
  }
 },
 "nbformat": 4,
 "nbformat_minor": 2
}
